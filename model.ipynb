{
 "cells": [
  {
   "cell_type": "code",
   "execution_count": 1,
   "metadata": {},
   "outputs": [
    {
     "name": "stdout",
     "output_type": "stream",
     "text": [
      "MAE: 16.91\n",
      "RMSE: 20.86\n",
      "R² Score: 0.85\n"
     ]
    }
   ],
   "source": [
    "import pandas as pd\n",
    "import numpy as np\n",
    "from sklearn.model_selection import train_test_split\n",
    "from sklearn.preprocessing import LabelEncoder, StandardScaler\n",
    "from sklearn.ensemble import RandomForestRegressor\n",
    "from sklearn.metrics import mean_absolute_error, mean_squared_error, r2_score\n",
    "import joblib\n",
    "\n",
    "# Load dataset\n",
    "df = pd.read_csv(\"crop_yield_dataset.csv\")\n",
    "\n",
    "# Encode categorical features\n",
    "label_enc = LabelEncoder()\n",
    "df[\"Irrigation\"] = label_enc.fit_transform(df[\"Irrigation\"])\n",
    "df[\"Crop_Type\"] = label_enc.fit_transform(df[\"Crop_Type\"])\n",
    "\n",
    "# Split features and target\n",
    "X = df.drop(columns=[\"Yield\"])\n",
    "y = df[\"Yield\"]\n",
    "\n",
    "# Train-test split\n",
    "X_train, X_test, y_train, y_test = train_test_split(X, y, test_size=0.2, random_state=42)\n",
    "\n",
    "# Standardize numerical features\n",
    "scaler = StandardScaler()\n",
    "X_train = scaler.fit_transform(X_train)\n",
    "X_test = scaler.transform(X_test)\n",
    "\n",
    "# Train model\n",
    "model = RandomForestRegressor(n_estimators=100, random_state=42)\n",
    "model.fit(X_train, y_train)\n",
    "\n",
    "# Predict\n",
    "y_pred = model.predict(X_test)\n",
    "\n",
    "# Evaluate\n",
    "mae = mean_absolute_error(y_test, y_pred)\n",
    "mse = mean_squared_error(y_test, y_pred)\n",
    "rmse = np.sqrt(mse)\n",
    "r2 = r2_score(y_test, y_pred)\n",
    "\n",
    "print(f\"MAE: {mae:.2f}\")\n",
    "print(f\"RMSE: {rmse:.2f}\")\n",
    "print(f\"R² Score: {r2:.2f}\")\n"
   ]
  },
  {
   "cell_type": "code",
   "execution_count": 2,
   "metadata": {},
   "outputs": [
    {
     "name": "stdout",
     "output_type": "stream",
     "text": [
      "Accuracy Score: 95.27%\n"
     ]
    }
   ],
   "source": [
    "# Accuracy Score (Alternative Approach for Regression Models)\n",
    "accuracy = 1 - (mae / np.mean(y_test))\n",
    "print(f\"Accuracy Score: {accuracy:.2%}\")"
   ]
  },
  {
   "cell_type": "code",
   "execution_count": 3,
   "metadata": {},
   "outputs": [
    {
     "name": "stdout",
     "output_type": "stream",
     "text": [
      "Model and scaler saved.\n"
     ]
    }
   ],
   "source": [
    "\n",
    "# Save the model and scaler\n",
    "joblib.dump(model, \"crop_yield_model.pkl\")\n",
    "joblib.dump(scaler, \"scaler.pkl\")\n",
    "print(\"Model and scaler saved.\")\n"
   ]
  },
  {
   "cell_type": "code",
   "execution_count": 4,
   "metadata": {},
   "outputs": [
    {
     "data": {
      "text/plain": [
       "Index(['Nitrogen', 'Phosphorus', 'Potassium', 'pH', 'Temperature', 'Rainfall',\n",
       "       'Humidity', 'Sunlight', 'Irrigation', 'Fertilizer_Used', 'Crop_Type'],\n",
       "      dtype='object')"
      ]
     },
     "execution_count": 4,
     "metadata": {},
     "output_type": "execute_result"
    }
   ],
   "source": [
    "X.columns"
   ]
  },
  {
   "cell_type": "code",
   "execution_count": 5,
   "metadata": {},
   "outputs": [
    {
     "data": {
      "text/plain": [
       "<bound method NDFrame.describe of      Nitrogen  Phosphorus  Potassium    pH  Temperature  Rainfall  Humidity  \\\n",
       "0         152          58         28  6.10         34.4      76.2        45   \n",
       "1         142          54        109  5.98         18.2      82.1        54   \n",
       "2          64          39         69  6.12         23.7     193.5        41   \n",
       "3         156          25         98  6.01         25.9      65.2        36   \n",
       "4         121          49         78  5.56         24.9      57.7        68   \n",
       "..        ...         ...        ...   ...          ...       ...       ...   \n",
       "995       190          58         81  5.93         25.4     124.1        78   \n",
       "996       172          35        125  6.88         37.7     282.4        47   \n",
       "997       111          46         90  6.71         21.1      81.2        36   \n",
       "998        81          77         90  6.74         17.3     213.1        33   \n",
       "999        78          59        122  7.38         23.0      63.2        55   \n",
       "\n",
       "     Sunlight  Irrigation  Fertilizer_Used  Crop_Type       Yield  \n",
       "0         5.3           1               51          3  293.910456  \n",
       "1         7.0           1               68          0  317.995181  \n",
       "2         8.2           1               69          0  227.821022  \n",
       "3         5.8           0              119          3  352.562886  \n",
       "4         8.2           1               66          3  297.643174  \n",
       "..        ...         ...              ...        ...         ...  \n",
       "995      11.4           0              134          0  429.592590  \n",
       "996      12.0           1               74          3  360.944015  \n",
       "997       6.1           1              224          0  372.530167  \n",
       "998      11.0           1              232          2  367.483040  \n",
       "999       6.9           1              241          3  416.060235  \n",
       "\n",
       "[1000 rows x 12 columns]>"
      ]
     },
     "execution_count": 5,
     "metadata": {},
     "output_type": "execute_result"
    }
   ],
   "source": [
    "df.describe"
   ]
  },
  {
   "cell_type": "code",
   "execution_count": null,
   "metadata": {},
   "outputs": [],
   "source": []
  }
 ],
 "metadata": {
  "kernelspec": {
   "display_name": "Python 3",
   "language": "python",
   "name": "python3"
  },
  "language_info": {
   "codemirror_mode": {
    "name": "ipython",
    "version": 3
   },
   "file_extension": ".py",
   "mimetype": "text/x-python",
   "name": "python",
   "nbconvert_exporter": "python",
   "pygments_lexer": "ipython3",
   "version": "3.12.0"
  }
 },
 "nbformat": 4,
 "nbformat_minor": 2
}
